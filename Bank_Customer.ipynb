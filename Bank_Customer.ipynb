{
 "cells": [
  {
   "cell_type": "markdown",
   "id": "57b81201",
   "metadata": {},
   "source": [
    "### Import libraries"
   ]
  },
  {
   "cell_type": "code",
   "execution_count": 42,
   "id": "99450f9e",
   "metadata": {},
   "outputs": [],
   "source": [
    "import numpy as np\n",
    "import pandas as pd \n",
    "import matplotlib.pyplot as plt\n",
    "import seaborn as sns \n",
    "from sklearn.pipeline import Pipeline\n",
    "from sklearn.preprocessing import StandardScaler, LabelEncoder\n",
    "from sklearn.compose import ColumnTransformer\n",
    "from sklearn.ensemble import AdaBoostClassifier,RandomForestClassifier\n",
    "from sklearn.model_selection import train_test_split\n",
    "from imblearn.over_sampling import RandomOverSampler\n",
    "from sklearn.metrics import f1_score"
   ]
  },
  {
   "cell_type": "markdown",
   "id": "7c9cc5cd",
   "metadata": {},
   "source": [
    "#### Read csv files"
   ]
  },
  {
   "cell_type": "code",
   "execution_count": 2,
   "id": "15175ae4",
   "metadata": {},
   "outputs": [],
   "source": [
    "train_data = pd.read_csv('bank_customers_train.csv')\n",
    "test_data = pd.read_csv('bank_customers_test.csv')"
   ]
  },
  {
   "cell_type": "markdown",
   "id": "af6e15f4",
   "metadata": {},
   "source": [
    "### Preprocessing & Feature Engineering On Train Data "
   ]
  },
  {
   "cell_type": "markdown",
   "id": "ec2822e8",
   "metadata": {},
   "source": [
    "#### Getting some info from data "
   ]
  },
  {
   "cell_type": "code",
   "execution_count": 3,
   "id": "04173033",
   "metadata": {},
   "outputs": [
    {
     "data": {
      "text/html": [
       "<div>\n",
       "<style scoped>\n",
       "    .dataframe tbody tr th:only-of-type {\n",
       "        vertical-align: middle;\n",
       "    }\n",
       "\n",
       "    .dataframe tbody tr th {\n",
       "        vertical-align: top;\n",
       "    }\n",
       "\n",
       "    .dataframe thead th {\n",
       "        text-align: right;\n",
       "    }\n",
       "</style>\n",
       "<table border=\"1\" class=\"dataframe\">\n",
       "  <thead>\n",
       "    <tr style=\"text-align: right;\">\n",
       "      <th></th>\n",
       "      <th>age</th>\n",
       "      <th>job</th>\n",
       "      <th>marital</th>\n",
       "      <th>education</th>\n",
       "      <th>default</th>\n",
       "      <th>housing</th>\n",
       "      <th>loan</th>\n",
       "      <th>contact</th>\n",
       "      <th>month</th>\n",
       "      <th>day_of_week</th>\n",
       "      <th>...</th>\n",
       "      <th>campaign</th>\n",
       "      <th>pdays</th>\n",
       "      <th>previous</th>\n",
       "      <th>poutcome</th>\n",
       "      <th>emp.var.rate</th>\n",
       "      <th>cons.price.idx</th>\n",
       "      <th>cons.conf.idx</th>\n",
       "      <th>euribor3m</th>\n",
       "      <th>nr.employed</th>\n",
       "      <th>y</th>\n",
       "    </tr>\n",
       "  </thead>\n",
       "  <tbody>\n",
       "    <tr>\n",
       "      <th>0</th>\n",
       "      <td>35</td>\n",
       "      <td>blue-collar</td>\n",
       "      <td>single</td>\n",
       "      <td>high.school</td>\n",
       "      <td>NaN</td>\n",
       "      <td>no</td>\n",
       "      <td>no</td>\n",
       "      <td>cellular</td>\n",
       "      <td>jul</td>\n",
       "      <td>thu</td>\n",
       "      <td>...</td>\n",
       "      <td>3</td>\n",
       "      <td>999</td>\n",
       "      <td>0</td>\n",
       "      <td>nonexistent</td>\n",
       "      <td>1.4</td>\n",
       "      <td>93.918</td>\n",
       "      <td>-42.7</td>\n",
       "      <td>4.958</td>\n",
       "      <td>5228.1</td>\n",
       "      <td>no</td>\n",
       "    </tr>\n",
       "    <tr>\n",
       "      <th>1</th>\n",
       "      <td>52</td>\n",
       "      <td>blue-collar</td>\n",
       "      <td>married</td>\n",
       "      <td>NaN</td>\n",
       "      <td>NaN</td>\n",
       "      <td>yes</td>\n",
       "      <td>no</td>\n",
       "      <td>telephone</td>\n",
       "      <td>jun</td>\n",
       "      <td>thu</td>\n",
       "      <td>...</td>\n",
       "      <td>4</td>\n",
       "      <td>999</td>\n",
       "      <td>0</td>\n",
       "      <td>nonexistent</td>\n",
       "      <td>1.4</td>\n",
       "      <td>94.465</td>\n",
       "      <td>-41.8</td>\n",
       "      <td>4.961</td>\n",
       "      <td>5228.1</td>\n",
       "      <td>no</td>\n",
       "    </tr>\n",
       "    <tr>\n",
       "      <th>2</th>\n",
       "      <td>38</td>\n",
       "      <td>services</td>\n",
       "      <td>married</td>\n",
       "      <td>high.school</td>\n",
       "      <td>NaN</td>\n",
       "      <td>no</td>\n",
       "      <td>no</td>\n",
       "      <td>telephone</td>\n",
       "      <td>jun</td>\n",
       "      <td>tue</td>\n",
       "      <td>...</td>\n",
       "      <td>2</td>\n",
       "      <td>999</td>\n",
       "      <td>0</td>\n",
       "      <td>nonexistent</td>\n",
       "      <td>1.4</td>\n",
       "      <td>94.465</td>\n",
       "      <td>-41.8</td>\n",
       "      <td>4.864</td>\n",
       "      <td>5228.1</td>\n",
       "      <td>no</td>\n",
       "    </tr>\n",
       "    <tr>\n",
       "      <th>3</th>\n",
       "      <td>44</td>\n",
       "      <td>admin.</td>\n",
       "      <td>married</td>\n",
       "      <td>university.degree</td>\n",
       "      <td>no</td>\n",
       "      <td>yes</td>\n",
       "      <td>no</td>\n",
       "      <td>telephone</td>\n",
       "      <td>oct</td>\n",
       "      <td>wed</td>\n",
       "      <td>...</td>\n",
       "      <td>1</td>\n",
       "      <td>999</td>\n",
       "      <td>0</td>\n",
       "      <td>nonexistent</td>\n",
       "      <td>-3.4</td>\n",
       "      <td>92.431</td>\n",
       "      <td>-26.9</td>\n",
       "      <td>0.735</td>\n",
       "      <td>5017.5</td>\n",
       "      <td>yes</td>\n",
       "    </tr>\n",
       "    <tr>\n",
       "      <th>4</th>\n",
       "      <td>25</td>\n",
       "      <td>services</td>\n",
       "      <td>divorced</td>\n",
       "      <td>basic.4y</td>\n",
       "      <td>no</td>\n",
       "      <td>yes</td>\n",
       "      <td>no</td>\n",
       "      <td>telephone</td>\n",
       "      <td>may</td>\n",
       "      <td>fri</td>\n",
       "      <td>...</td>\n",
       "      <td>1</td>\n",
       "      <td>999</td>\n",
       "      <td>0</td>\n",
       "      <td>nonexistent</td>\n",
       "      <td>1.1</td>\n",
       "      <td>93.994</td>\n",
       "      <td>-36.4</td>\n",
       "      <td>4.859</td>\n",
       "      <td>5191.0</td>\n",
       "      <td>no</td>\n",
       "    </tr>\n",
       "  </tbody>\n",
       "</table>\n",
       "<p>5 rows × 21 columns</p>\n",
       "</div>"
      ],
      "text/plain": [
       "   age          job   marital          education default housing loan  \\\n",
       "0   35  blue-collar    single        high.school     NaN      no   no   \n",
       "1   52  blue-collar   married                NaN     NaN     yes   no   \n",
       "2   38     services   married        high.school     NaN      no   no   \n",
       "3   44       admin.   married  university.degree      no     yes   no   \n",
       "4   25     services  divorced           basic.4y      no     yes   no   \n",
       "\n",
       "     contact month day_of_week  ...  campaign  pdays  previous     poutcome  \\\n",
       "0   cellular   jul         thu  ...         3    999         0  nonexistent   \n",
       "1  telephone   jun         thu  ...         4    999         0  nonexistent   \n",
       "2  telephone   jun         tue  ...         2    999         0  nonexistent   \n",
       "3  telephone   oct         wed  ...         1    999         0  nonexistent   \n",
       "4  telephone   may         fri  ...         1    999         0  nonexistent   \n",
       "\n",
       "  emp.var.rate  cons.price.idx  cons.conf.idx  euribor3m  nr.employed    y  \n",
       "0          1.4          93.918          -42.7      4.958       5228.1   no  \n",
       "1          1.4          94.465          -41.8      4.961       5228.1   no  \n",
       "2          1.4          94.465          -41.8      4.864       5228.1   no  \n",
       "3         -3.4          92.431          -26.9      0.735       5017.5  yes  \n",
       "4          1.1          93.994          -36.4      4.859       5191.0   no  \n",
       "\n",
       "[5 rows x 21 columns]"
      ]
     },
     "execution_count": 3,
     "metadata": {},
     "output_type": "execute_result"
    }
   ],
   "source": [
    "train_data.head()"
   ]
  },
  {
   "cell_type": "code",
   "execution_count": 4,
   "id": "e74967ab",
   "metadata": {},
   "outputs": [
    {
     "name": "stdout",
     "output_type": "stream",
     "text": [
      "<class 'pandas.core.frame.DataFrame'>\n",
      "RangeIndex: 39188 entries, 0 to 39187\n",
      "Data columns (total 21 columns):\n",
      " #   Column          Non-Null Count  Dtype  \n",
      "---  ------          --------------  -----  \n",
      " 0   age             39188 non-null  int64  \n",
      " 1   job             38872 non-null  object \n",
      " 2   marital         39109 non-null  object \n",
      " 3   education       37535 non-null  object \n",
      " 4   default         31026 non-null  object \n",
      " 5   housing         38248 non-null  object \n",
      " 6   loan            38248 non-null  object \n",
      " 7   contact         39188 non-null  object \n",
      " 8   month           39188 non-null  object \n",
      " 9   day_of_week     39188 non-null  object \n",
      " 10  duration        39188 non-null  int64  \n",
      " 11  campaign        39188 non-null  int64  \n",
      " 12  pdays           39188 non-null  int64  \n",
      " 13  previous        39188 non-null  int64  \n",
      " 14  poutcome        39188 non-null  object \n",
      " 15  emp.var.rate    39188 non-null  float64\n",
      " 16  cons.price.idx  39188 non-null  float64\n",
      " 17  cons.conf.idx   39188 non-null  float64\n",
      " 18  euribor3m       39188 non-null  float64\n",
      " 19  nr.employed     39188 non-null  float64\n",
      " 20  y               39188 non-null  object \n",
      "dtypes: float64(5), int64(5), object(11)\n",
      "memory usage: 6.3+ MB\n"
     ]
    }
   ],
   "source": [
    "train_data.info()"
   ]
  },
  {
   "cell_type": "code",
   "execution_count": 49,
   "id": "679f8805",
   "metadata": {},
   "outputs": [
    {
     "name": "stdout",
     "output_type": "stream",
     "text": [
      "<class 'pandas.core.frame.DataFrame'>\n",
      "RangeIndex: 2000 entries, 0 to 1999\n",
      "Data columns (total 20 columns):\n",
      " #   Column          Non-Null Count  Dtype  \n",
      "---  ------          --------------  -----  \n",
      " 0   age             2000 non-null   int64  \n",
      " 1   job             1986 non-null   object \n",
      " 2   marital         1999 non-null   object \n",
      " 3   education       1922 non-null   object \n",
      " 4   default         1565 non-null   object \n",
      " 5   housing         1950 non-null   object \n",
      " 6   loan            1950 non-null   object \n",
      " 7   contact         2000 non-null   object \n",
      " 8   month           2000 non-null   object \n",
      " 9   day_of_week     2000 non-null   object \n",
      " 10  duration        2000 non-null   int64  \n",
      " 11  campaign        2000 non-null   int64  \n",
      " 12  pdays           2000 non-null   int64  \n",
      " 13  previous        2000 non-null   int64  \n",
      " 14  poutcome        2000 non-null   object \n",
      " 15  emp.var.rate    2000 non-null   float64\n",
      " 16  cons.price.idx  2000 non-null   float64\n",
      " 17  cons.conf.idx   2000 non-null   float64\n",
      " 18  euribor3m       2000 non-null   float64\n",
      " 19  nr.employed     2000 non-null   float64\n",
      "dtypes: float64(5), int64(5), object(10)\n",
      "memory usage: 312.6+ KB\n"
     ]
    }
   ],
   "source": [
    "test_data.info()"
   ]
  },
  {
   "cell_type": "code",
   "execution_count": 5,
   "id": "a57215f3",
   "metadata": {},
   "outputs": [
    {
     "data": {
      "text/html": [
       "<div>\n",
       "<style scoped>\n",
       "    .dataframe tbody tr th:only-of-type {\n",
       "        vertical-align: middle;\n",
       "    }\n",
       "\n",
       "    .dataframe tbody tr th {\n",
       "        vertical-align: top;\n",
       "    }\n",
       "\n",
       "    .dataframe thead th {\n",
       "        text-align: right;\n",
       "    }\n",
       "</style>\n",
       "<table border=\"1\" class=\"dataframe\">\n",
       "  <thead>\n",
       "    <tr style=\"text-align: right;\">\n",
       "      <th></th>\n",
       "      <th>age</th>\n",
       "      <th>duration</th>\n",
       "      <th>campaign</th>\n",
       "      <th>pdays</th>\n",
       "      <th>previous</th>\n",
       "      <th>emp.var.rate</th>\n",
       "      <th>cons.price.idx</th>\n",
       "      <th>cons.conf.idx</th>\n",
       "      <th>euribor3m</th>\n",
       "      <th>nr.employed</th>\n",
       "    </tr>\n",
       "  </thead>\n",
       "  <tbody>\n",
       "    <tr>\n",
       "      <th>count</th>\n",
       "      <td>39188.000000</td>\n",
       "      <td>39188.000000</td>\n",
       "      <td>39188.000000</td>\n",
       "      <td>39188.000000</td>\n",
       "      <td>39188.000000</td>\n",
       "      <td>39188.000000</td>\n",
       "      <td>39188.000000</td>\n",
       "      <td>39188.000000</td>\n",
       "      <td>39188.000000</td>\n",
       "      <td>39188.000000</td>\n",
       "    </tr>\n",
       "    <tr>\n",
       "      <th>mean</th>\n",
       "      <td>39.997754</td>\n",
       "      <td>258.125574</td>\n",
       "      <td>2.568720</td>\n",
       "      <td>962.588394</td>\n",
       "      <td>0.173191</td>\n",
       "      <td>0.079787</td>\n",
       "      <td>93.575327</td>\n",
       "      <td>-40.499862</td>\n",
       "      <td>3.618962</td>\n",
       "      <td>5166.920478</td>\n",
       "    </tr>\n",
       "    <tr>\n",
       "      <th>std</th>\n",
       "      <td>10.407876</td>\n",
       "      <td>258.683120</td>\n",
       "      <td>2.771971</td>\n",
       "      <td>186.631343</td>\n",
       "      <td>0.495921</td>\n",
       "      <td>1.571619</td>\n",
       "      <td>0.579311</td>\n",
       "      <td>4.631198</td>\n",
       "      <td>1.735424</td>\n",
       "      <td>72.290033</td>\n",
       "    </tr>\n",
       "    <tr>\n",
       "      <th>min</th>\n",
       "      <td>17.000000</td>\n",
       "      <td>0.000000</td>\n",
       "      <td>1.000000</td>\n",
       "      <td>0.000000</td>\n",
       "      <td>0.000000</td>\n",
       "      <td>-3.400000</td>\n",
       "      <td>92.201000</td>\n",
       "      <td>-50.800000</td>\n",
       "      <td>0.634000</td>\n",
       "      <td>4963.600000</td>\n",
       "    </tr>\n",
       "    <tr>\n",
       "      <th>25%</th>\n",
       "      <td>32.000000</td>\n",
       "      <td>102.000000</td>\n",
       "      <td>1.000000</td>\n",
       "      <td>999.000000</td>\n",
       "      <td>0.000000</td>\n",
       "      <td>-1.800000</td>\n",
       "      <td>93.075000</td>\n",
       "      <td>-42.700000</td>\n",
       "      <td>1.344000</td>\n",
       "      <td>5099.100000</td>\n",
       "    </tr>\n",
       "    <tr>\n",
       "      <th>50%</th>\n",
       "      <td>38.000000</td>\n",
       "      <td>179.000000</td>\n",
       "      <td>2.000000</td>\n",
       "      <td>999.000000</td>\n",
       "      <td>0.000000</td>\n",
       "      <td>1.100000</td>\n",
       "      <td>93.749000</td>\n",
       "      <td>-41.800000</td>\n",
       "      <td>4.857000</td>\n",
       "      <td>5191.000000</td>\n",
       "    </tr>\n",
       "    <tr>\n",
       "      <th>75%</th>\n",
       "      <td>47.000000</td>\n",
       "      <td>320.000000</td>\n",
       "      <td>3.000000</td>\n",
       "      <td>999.000000</td>\n",
       "      <td>0.000000</td>\n",
       "      <td>1.400000</td>\n",
       "      <td>93.994000</td>\n",
       "      <td>-36.400000</td>\n",
       "      <td>4.961000</td>\n",
       "      <td>5228.100000</td>\n",
       "    </tr>\n",
       "    <tr>\n",
       "      <th>max</th>\n",
       "      <td>98.000000</td>\n",
       "      <td>4918.000000</td>\n",
       "      <td>56.000000</td>\n",
       "      <td>999.000000</td>\n",
       "      <td>7.000000</td>\n",
       "      <td>1.400000</td>\n",
       "      <td>94.767000</td>\n",
       "      <td>-26.900000</td>\n",
       "      <td>5.045000</td>\n",
       "      <td>5228.100000</td>\n",
       "    </tr>\n",
       "  </tbody>\n",
       "</table>\n",
       "</div>"
      ],
      "text/plain": [
       "                age      duration      campaign         pdays      previous  \\\n",
       "count  39188.000000  39188.000000  39188.000000  39188.000000  39188.000000   \n",
       "mean      39.997754    258.125574      2.568720    962.588394      0.173191   \n",
       "std       10.407876    258.683120      2.771971    186.631343      0.495921   \n",
       "min       17.000000      0.000000      1.000000      0.000000      0.000000   \n",
       "25%       32.000000    102.000000      1.000000    999.000000      0.000000   \n",
       "50%       38.000000    179.000000      2.000000    999.000000      0.000000   \n",
       "75%       47.000000    320.000000      3.000000    999.000000      0.000000   \n",
       "max       98.000000   4918.000000     56.000000    999.000000      7.000000   \n",
       "\n",
       "       emp.var.rate  cons.price.idx  cons.conf.idx     euribor3m   nr.employed  \n",
       "count  39188.000000    39188.000000   39188.000000  39188.000000  39188.000000  \n",
       "mean       0.079787       93.575327     -40.499862      3.618962   5166.920478  \n",
       "std        1.571619        0.579311       4.631198      1.735424     72.290033  \n",
       "min       -3.400000       92.201000     -50.800000      0.634000   4963.600000  \n",
       "25%       -1.800000       93.075000     -42.700000      1.344000   5099.100000  \n",
       "50%        1.100000       93.749000     -41.800000      4.857000   5191.000000  \n",
       "75%        1.400000       93.994000     -36.400000      4.961000   5228.100000  \n",
       "max        1.400000       94.767000     -26.900000      5.045000   5228.100000  "
      ]
     },
     "execution_count": 5,
     "metadata": {},
     "output_type": "execute_result"
    }
   ],
   "source": [
    "train_data.describe()"
   ]
  },
  {
   "cell_type": "code",
   "execution_count": 7,
   "id": "7883d5b0",
   "metadata": {},
   "outputs": [
    {
     "data": {
      "text/plain": [
       "no     34773\n",
       "yes     4415\n",
       "Name: y, dtype: int64"
      ]
     },
     "execution_count": 7,
     "metadata": {},
     "output_type": "execute_result"
    }
   ],
   "source": [
    "train_data['y'].value_counts()"
   ]
  },
  {
   "cell_type": "markdown",
   "id": "ae1631c3",
   "metadata": {},
   "source": [
    "#### Handle Nan value"
   ]
  },
  {
   "cell_type": "code",
   "execution_count": 9,
   "id": "f4c4fd74",
   "metadata": {},
   "outputs": [],
   "source": [
    "\n",
    "Nan_col=['job','marital','education','default','housing','loan']\n",
    "for col in Nan_col :\n",
    "    train_data[col].fillna(train_data[col].mode()[0],inplace=True)"
   ]
  },
  {
   "cell_type": "markdown",
   "id": "74c8ddb1",
   "metadata": {},
   "source": [
    "#### Use Correlation Matrix for selecting feature"
   ]
  },
  {
   "cell_type": "code",
   "execution_count": 10,
   "id": "e8839bc5",
   "metadata": {},
   "outputs": [
    {
     "name": "stderr",
     "output_type": "stream",
     "text": [
      "C:\\Users\\benya\\AppData\\Local\\Temp\\ipykernel_10500\\3365883915.py:3: SettingWithCopyWarning: \n",
      "A value is trying to be set on a copy of a slice from a DataFrame\n",
      "\n",
      "See the caveats in the documentation: https://pandas.pydata.org/pandas-docs/stable/user_guide/indexing.html#returning-a-view-versus-a-copy\n",
      "  df_numerical.replace({'yes':1,'no':0},inplace=True)\n"
     ]
    }
   ],
   "source": [
    "\n",
    "numerical_col =['age','duration','campaign','pdays','previous','emp.var.rate','cons.price.idx','cons.conf.idx','euribor3m','nr.employed','y']\n",
    "df_numerical = train_data[numerical_col]\n",
    "df_numerical.replace({'yes':1,'no':0},inplace=True)"
   ]
  },
  {
   "cell_type": "code",
   "execution_count": 11,
   "id": "bb727d3b",
   "metadata": {},
   "outputs": [
    {
     "data": {
      "image/png": "[encoded data removed]",
      "text/plain": [
       "<Figure size 800x600 with 2 Axes>"
      ]
     },
     "metadata": {},
     "output_type": "display_data"
    }
   ],
   "source": [
    "correlation_matrix = df_numerical.corr ()  \n",
    "plt.figure(figsize=(8, 6))\n",
    "sns.heatmap(correlation_matrix[['y']], annot=True, cmap='coolwarm', fmt=\".2f\", linewidths=.5)\n",
    "plt.title('Correlation Matrix')\n",
    "plt.show()"
   ]
  },
  {
   "cell_type": "markdown",
   "id": "34239017",
   "metadata": {},
   "source": [
    "#### Check the distribution of feature "
   ]
  },
  {
   "cell_type": "code",
   "execution_count": 12,
   "id": "02529059",
   "metadata": {},
   "outputs": [
    {
     "data": {
      "image/png": "[encoded data removed]",
      "text/plain": [
       "<Figure size 1500x1000 with 6 Axes>"
      ]
     },
     "metadata": {},
     "output_type": "display_data"
    }
   ],
   "source": [
    "selected_numerical = ['duration','pdays','previous','emp.var.rate','euribor3m','nr.employed']\n",
    "\n",
    "train_data[selected_numerical].hist(bins=10, color='purple', edgecolor='black', figsize=(15, 10), grid=False)\n",
    "plt.suptitle('Distribution of Train Data', x=0.5, y=1.02, ha='center')\n",
    "plt.show()"
   ]
  },
  {
   "cell_type": "code",
   "execution_count": 13,
   "id": "567bd648",
   "metadata": {},
   "outputs": [],
   "source": [
    "\n",
    "selected_feature = ['job','month','day_of_week','marital','education','default','housing','loan','y','duration','pdays','previous','emp.var.rate','euribor3m','nr.employed']\n",
    "df = train_data[selected_feature]"
   ]
  },
  {
   "cell_type": "markdown",
   "id": "a0d8be70",
   "metadata": {},
   "source": [
    "#### Encoding Categorical columns & Scaling Numerical columns "
   ]
  },
  {
   "cell_type": "code",
   "execution_count": 14,
   "id": "961c2feb",
   "metadata": {},
   "outputs": [
    {
     "name": "stderr",
     "output_type": "stream",
     "text": [
      "C:\\Users\\benya\\AppData\\Local\\Temp\\ipykernel_10500\\405716797.py:4: SettingWithCopyWarning: \n",
      "A value is trying to be set on a copy of a slice from a DataFrame.\n",
      "Try using .loc[row_indexer,col_indexer] = value instead\n",
      "\n",
      "See the caveats in the documentation: https://pandas.pydata.org/pandas-docs/stable/user_guide/indexing.html#returning-a-view-versus-a-copy\n",
      "  df[col] = le.fit_transform(df[col])\n",
      "C:\\Users\\benya\\AppData\\Local\\Temp\\ipykernel_10500\\405716797.py:4: SettingWithCopyWarning: \n",
      "A value is trying to be set on a copy of a slice from a DataFrame.\n",
      "Try using .loc[row_indexer,col_indexer] = value instead\n",
      "\n",
      "See the caveats in the documentation: https://pandas.pydata.org/pandas-docs/stable/user_guide/indexing.html#returning-a-view-versus-a-copy\n",
      "  df[col] = le.fit_transform(df[col])\n",
      "C:\\Users\\benya\\AppData\\Local\\Temp\\ipykernel_10500\\405716797.py:4: SettingWithCopyWarning: \n",
      "A value is trying to be set on a copy of a slice from a DataFrame.\n",
      "Try using .loc[row_indexer,col_indexer] = value instead\n",
      "\n",
      "See the caveats in the documentation: https://pandas.pydata.org/pandas-docs/stable/user_guide/indexing.html#returning-a-view-versus-a-copy\n",
      "  df[col] = le.fit_transform(df[col])\n",
      "C:\\Users\\benya\\AppData\\Local\\Temp\\ipykernel_10500\\405716797.py:4: SettingWithCopyWarning: \n",
      "A value is trying to be set on a copy of a slice from a DataFrame.\n",
      "Try using .loc[row_indexer,col_indexer] = value instead\n",
      "\n",
      "See the caveats in the documentation: https://pandas.pydata.org/pandas-docs/stable/user_guide/indexing.html#returning-a-view-versus-a-copy\n",
      "  df[col] = le.fit_transform(df[col])\n",
      "C:\\Users\\benya\\AppData\\Local\\Temp\\ipykernel_10500\\405716797.py:4: SettingWithCopyWarning: \n",
      "A value is trying to be set on a copy of a slice from a DataFrame.\n",
      "Try using .loc[row_indexer,col_indexer] = value instead\n",
      "\n",
      "See the caveats in the documentation: https://pandas.pydata.org/pandas-docs/stable/user_guide/indexing.html#returning-a-view-versus-a-copy\n",
      "  df[col] = le.fit_transform(df[col])\n",
      "C:\\Users\\benya\\AppData\\Local\\Temp\\ipykernel_10500\\405716797.py:4: SettingWithCopyWarning: \n",
      "A value is trying to be set on a copy of a slice from a DataFrame.\n",
      "Try using .loc[row_indexer,col_indexer] = value instead\n",
      "\n",
      "See the caveats in the documentation: https://pandas.pydata.org/pandas-docs/stable/user_guide/indexing.html#returning-a-view-versus-a-copy\n",
      "  df[col] = le.fit_transform(df[col])\n",
      "C:\\Users\\benya\\AppData\\Local\\Temp\\ipykernel_10500\\405716797.py:4: SettingWithCopyWarning: \n",
      "A value is trying to be set on a copy of a slice from a DataFrame.\n",
      "Try using .loc[row_indexer,col_indexer] = value instead\n",
      "\n",
      "See the caveats in the documentation: https://pandas.pydata.org/pandas-docs/stable/user_guide/indexing.html#returning-a-view-versus-a-copy\n",
      "  df[col] = le.fit_transform(df[col])\n",
      "C:\\Users\\benya\\AppData\\Local\\Temp\\ipykernel_10500\\405716797.py:4: SettingWithCopyWarning: \n",
      "A value is trying to be set on a copy of a slice from a DataFrame.\n",
      "Try using .loc[row_indexer,col_indexer] = value instead\n",
      "\n",
      "See the caveats in the documentation: https://pandas.pydata.org/pandas-docs/stable/user_guide/indexing.html#returning-a-view-versus-a-copy\n",
      "  df[col] = le.fit_transform(df[col])\n",
      "C:\\Users\\benya\\AppData\\Local\\Temp\\ipykernel_10500\\405716797.py:4: SettingWithCopyWarning: \n",
      "A value is trying to be set on a copy of a slice from a DataFrame.\n",
      "Try using .loc[row_indexer,col_indexer] = value instead\n",
      "\n",
      "See the caveats in the documentation: https://pandas.pydata.org/pandas-docs/stable/user_guide/indexing.html#returning-a-view-versus-a-copy\n",
      "  df[col] = le.fit_transform(df[col])\n"
     ]
    }
   ],
   "source": [
    "\n",
    "categorical_col=['job','month','day_of_week','marital','education','default','housing','loan','y']\n",
    "for col in categorical_col :\n",
    "    le=LabelEncoder()\n",
    "    df[col] = le.fit_transform(df[col])\n"
   ]
  },
  {
   "cell_type": "code",
   "execution_count": 16,
   "id": "09c004fd",
   "metadata": {},
   "outputs": [
    {
     "name": "stderr",
     "output_type": "stream",
     "text": [
      "C:\\Users\\benya\\AppData\\Local\\Temp\\ipykernel_10500\\3341879046.py:2: SettingWithCopyWarning: \n",
      "A value is trying to be set on a copy of a slice from a DataFrame.\n",
      "Try using .loc[row_indexer,col_indexer] = value instead\n",
      "\n",
      "See the caveats in the documentation: https://pandas.pydata.org/pandas-docs/stable/user_guide/indexing.html#returning-a-view-versus-a-copy\n",
      "  df[selected_numerical]=scale.fit_transform(df[selected_numerical])\n"
     ]
    }
   ],
   "source": [
    "\n",
    "scale = StandardScaler()\n",
    "df[selected_numerical]=scale.fit_transform(df[selected_numerical])"
   ]
  },
  {
   "cell_type": "code",
   "execution_count": 17,
   "id": "fed52016",
   "metadata": {},
   "outputs": [
    {
     "data": {
      "text/html": [
       "<div>\n",
       "<style scoped>\n",
       "    .dataframe tbody tr th:only-of-type {\n",
       "        vertical-align: middle;\n",
       "    }\n",
       "\n",
       "    .dataframe tbody tr th {\n",
       "        vertical-align: top;\n",
       "    }\n",
       "\n",
       "    .dataframe thead th {\n",
       "        text-align: right;\n",
       "    }\n",
       "</style>\n",
       "<table border=\"1\" class=\"dataframe\">\n",
       "  <thead>\n",
       "    <tr style=\"text-align: right;\">\n",
       "      <th></th>\n",
       "      <th>job</th>\n",
       "      <th>month</th>\n",
       "      <th>day_of_week</th>\n",
       "      <th>marital</th>\n",
       "      <th>education</th>\n",
       "      <th>default</th>\n",
       "      <th>housing</th>\n",
       "      <th>loan</th>\n",
       "      <th>y</th>\n",
       "      <th>duration</th>\n",
       "      <th>pdays</th>\n",
       "      <th>previous</th>\n",
       "      <th>emp.var.rate</th>\n",
       "      <th>euribor3m</th>\n",
       "      <th>nr.employed</th>\n",
       "    </tr>\n",
       "  </thead>\n",
       "  <tbody>\n",
       "    <tr>\n",
       "      <th>0</th>\n",
       "      <td>1</td>\n",
       "      <td>3</td>\n",
       "      <td>2</td>\n",
       "      <td>2</td>\n",
       "      <td>3</td>\n",
       "      <td>0</td>\n",
       "      <td>0</td>\n",
       "      <td>0</td>\n",
       "      <td>0</td>\n",
       "      <td>-0.545561</td>\n",
       "      <td>0.195102</td>\n",
       "      <td>-0.349235</td>\n",
       "      <td>0.840044</td>\n",
       "      <td>0.771601</td>\n",
       "      <td>0.846317</td>\n",
       "    </tr>\n",
       "    <tr>\n",
       "      <th>1</th>\n",
       "      <td>1</td>\n",
       "      <td>4</td>\n",
       "      <td>2</td>\n",
       "      <td>1</td>\n",
       "      <td>6</td>\n",
       "      <td>0</td>\n",
       "      <td>1</td>\n",
       "      <td>0</td>\n",
       "      <td>0</td>\n",
       "      <td>-0.541695</td>\n",
       "      <td>0.195102</td>\n",
       "      <td>-0.349235</td>\n",
       "      <td>0.840044</td>\n",
       "      <td>0.773330</td>\n",
       "      <td>0.846317</td>\n",
       "    </tr>\n",
       "    <tr>\n",
       "      <th>2</th>\n",
       "      <td>7</td>\n",
       "      <td>4</td>\n",
       "      <td>3</td>\n",
       "      <td>1</td>\n",
       "      <td>3</td>\n",
       "      <td>0</td>\n",
       "      <td>0</td>\n",
       "      <td>0</td>\n",
       "      <td>0</td>\n",
       "      <td>-0.019814</td>\n",
       "      <td>0.195102</td>\n",
       "      <td>-0.349235</td>\n",
       "      <td>0.840044</td>\n",
       "      <td>0.717435</td>\n",
       "      <td>0.846317</td>\n",
       "    </tr>\n",
       "    <tr>\n",
       "      <th>3</th>\n",
       "      <td>0</td>\n",
       "      <td>8</td>\n",
       "      <td>4</td>\n",
       "      <td>1</td>\n",
       "      <td>6</td>\n",
       "      <td>0</td>\n",
       "      <td>1</td>\n",
       "      <td>0</td>\n",
       "      <td>1</td>\n",
       "      <td>1.897614</td>\n",
       "      <td>0.195102</td>\n",
       "      <td>-0.349235</td>\n",
       "      <td>-2.214170</td>\n",
       "      <td>-1.661841</td>\n",
       "      <td>-2.066985</td>\n",
       "    </tr>\n",
       "    <tr>\n",
       "      <th>4</th>\n",
       "      <td>7</td>\n",
       "      <td>6</td>\n",
       "      <td>0</td>\n",
       "      <td>0</td>\n",
       "      <td>0</td>\n",
       "      <td>0</td>\n",
       "      <td>1</td>\n",
       "      <td>0</td>\n",
       "      <td>0</td>\n",
       "      <td>1.325478</td>\n",
       "      <td>0.195102</td>\n",
       "      <td>-0.349235</td>\n",
       "      <td>0.649156</td>\n",
       "      <td>0.714554</td>\n",
       "      <td>0.333100</td>\n",
       "    </tr>\n",
       "  </tbody>\n",
       "</table>\n",
       "</div>"
      ],
      "text/plain": [
       "   job  month  day_of_week  marital  education  default  housing  loan  y  \\\n",
       "0    1      3            2        2          3        0        0     0  0   \n",
       "1    1      4            2        1          6        0        1     0  0   \n",
       "2    7      4            3        1          3        0        0     0  0   \n",
       "3    0      8            4        1          6        0        1     0  1   \n",
       "4    7      6            0        0          0        0        1     0  0   \n",
       "\n",
       "   duration     pdays  previous  emp.var.rate  euribor3m  nr.employed  \n",
       "0 -0.545561  0.195102 -0.349235      0.840044   0.771601     0.846317  \n",
       "1 -0.541695  0.195102 -0.349235      0.840044   0.773330     0.846317  \n",
       "2 -0.019814  0.195102 -0.349235      0.840044   0.717435     0.846317  \n",
       "3  1.897614  0.195102 -0.349235     -2.214170  -1.661841    -2.066985  \n",
       "4  1.325478  0.195102 -0.349235      0.649156   0.714554     0.333100  "
      ]
     },
     "execution_count": 17,
     "metadata": {},
     "output_type": "execute_result"
    }
   ],
   "source": [
    "df.head()"
   ]
  },
  {
   "cell_type": "markdown",
   "id": "d2cfc830",
   "metadata": {},
   "source": [
    "#### Split to Train and Test ( validation )"
   ]
  },
  {
   "cell_type": "code",
   "execution_count": 48,
   "id": "49b3791e",
   "metadata": {},
   "outputs": [],
   "source": [
    "X = df.drop(['y'],axis=1)\n",
    "y =df['y']\n",
    "x_train, x_test, y_train, y_test = train_test_split(X,y,test_size=0.2,random_state=42)\n"
   ]
  },
  {
   "cell_type": "markdown",
   "id": "a83957cc",
   "metadata": {},
   "source": [
    "##### Use random over sample because the number of the yes its less than no "
   ]
  },
  {
   "cell_type": "code",
   "execution_count": 49,
   "id": "d1d3d492",
   "metadata": {},
   "outputs": [],
   "source": [
    "ros = RandomOverSampler(random_state=42)\n",
    "X_train_resampled, y_train_resampled = ros.fit_resample(x_train, y_train)\n"
   ]
  },
  {
   "cell_type": "code",
   "execution_count": 39,
   "id": "7885bf0b",
   "metadata": {},
   "outputs": [
    {
     "name": "stdout",
     "output_type": "stream",
     "text": [
      "Original y value counts :  0    27815\n",
      "1     3535\n",
      "Name: y, dtype: int64\n",
      "Resampled y value counts 0    27815\n",
      "1    27815\n",
      "Name: y, dtype: int64\n"
     ]
    }
   ],
   "source": [
    "print('Original y value counts : ',y_train.value_counts())\n",
    "print('Resampled y value counts',y_train_resampled.value_counts())"
   ]
  },
  {
   "cell_type": "markdown",
   "id": "37da888d",
   "metadata": {},
   "source": [
    "#### Model data "
   ]
  },
  {
   "cell_type": "code",
   "execution_count": null,
   "id": "88bcd5e6",
   "metadata": {},
   "outputs": [
    {
     "name": "stderr",
     "output_type": "stream",
     "text": [
      "C:\\Users\\benya\\AppData\\Local\\Programs\\Python\\Python311\\Lib\\site-packages\\sklearn\\ensemble\\_base.py:156: FutureWarning: `base_estimator` was renamed to `estimator` in version 1.2 and will be removed in 1.4.\n",
      "  warnings.warn(\n"
     ]
    }
   ],
   "source": [
    "\n",
    "base_classifier = RandomForestClassifier(n_estimators=10, random_state=42)\n",
    "model = AdaBoostClassifier(base_estimator=base_classifier, n_estimators=200, random_state=42)\n",
    "model.fit(X_train_resampled,y_train_resampled)\n"
   ]
  },
  {
   "cell_type": "markdown",
   "id": "fcd823e0",
   "metadata": {},
   "source": [
    "#### Evaluate model"
   ]
  },
  {
   "cell_type": "code",
   "execution_count": null,
   "id": "97df9953",
   "metadata": {
    "scrolled": true
   },
   "outputs": [],
   "source": [
    "# evaluate model\n",
    "y_pred = model.predict(x_test)\n",
    "f1 = f1_score(y_test, y_pred, average='binary')  \n",
    "print(\"F1 Score:\", f1)"
   ]
  },
  {
   "cell_type": "markdown",
   "id": "90254ad3",
   "metadata": {},
   "source": [
    "### Preprocessing On Test Data :"
   ]
  },
  {
   "cell_type": "markdown",
   "id": "51b5af46",
   "metadata": {},
   "source": [
    "#### Selecting important feature and Handling Nan value"
   ]
  },
  {
   "cell_type": "code",
   "execution_count": 90,
   "id": "8534c0bd",
   "metadata": {},
   "outputs": [],
   "source": [
    "selected_test_feature = ['job','month','day_of_week','marital','education','default','housing','loan','duration','pdays','previous','emp.var.rate','euribor3m','nr.employed']\n",
    "test_data= test_data[selected_test_feature]\n"
   ]
  },
  {
   "cell_type": "code",
   "execution_count": 91,
   "id": "02b54e89",
   "metadata": {},
   "outputs": [
    {
     "name": "stderr",
     "output_type": "stream",
     "text": [
      "C:\\Users\\benya\\AppData\\Local\\Temp\\ipykernel_7744\\3258504553.py:3: SettingWithCopyWarning: \n",
      "A value is trying to be set on a copy of a slice from a DataFrame\n",
      "\n",
      "See the caveats in the documentation: https://pandas.pydata.org/pandas-docs/stable/user_guide/indexing.html#returning-a-view-versus-a-copy\n",
      "  test_data[col].fillna(test_data[col].mode()[0],inplace=True)\n",
      "C:\\Users\\benya\\AppData\\Local\\Temp\\ipykernel_7744\\3258504553.py:3: SettingWithCopyWarning: \n",
      "A value is trying to be set on a copy of a slice from a DataFrame\n",
      "\n",
      "See the caveats in the documentation: https://pandas.pydata.org/pandas-docs/stable/user_guide/indexing.html#returning-a-view-versus-a-copy\n",
      "  test_data[col].fillna(test_data[col].mode()[0],inplace=True)\n",
      "C:\\Users\\benya\\AppData\\Local\\Temp\\ipykernel_7744\\3258504553.py:3: SettingWithCopyWarning: \n",
      "A value is trying to be set on a copy of a slice from a DataFrame\n",
      "\n",
      "See the caveats in the documentation: https://pandas.pydata.org/pandas-docs/stable/user_guide/indexing.html#returning-a-view-versus-a-copy\n",
      "  test_data[col].fillna(test_data[col].mode()[0],inplace=True)\n",
      "C:\\Users\\benya\\AppData\\Local\\Temp\\ipykernel_7744\\3258504553.py:3: SettingWithCopyWarning: \n",
      "A value is trying to be set on a copy of a slice from a DataFrame\n",
      "\n",
      "See the caveats in the documentation: https://pandas.pydata.org/pandas-docs/stable/user_guide/indexing.html#returning-a-view-versus-a-copy\n",
      "  test_data[col].fillna(test_data[col].mode()[0],inplace=True)\n",
      "C:\\Users\\benya\\AppData\\Local\\Temp\\ipykernel_7744\\3258504553.py:3: SettingWithCopyWarning: \n",
      "A value is trying to be set on a copy of a slice from a DataFrame\n",
      "\n",
      "See the caveats in the documentation: https://pandas.pydata.org/pandas-docs/stable/user_guide/indexing.html#returning-a-view-versus-a-copy\n",
      "  test_data[col].fillna(test_data[col].mode()[0],inplace=True)\n",
      "C:\\Users\\benya\\AppData\\Local\\Temp\\ipykernel_7744\\3258504553.py:3: SettingWithCopyWarning: \n",
      "A value is trying to be set on a copy of a slice from a DataFrame\n",
      "\n",
      "See the caveats in the documentation: https://pandas.pydata.org/pandas-docs/stable/user_guide/indexing.html#returning-a-view-versus-a-copy\n",
      "  test_data[col].fillna(test_data[col].mode()[0],inplace=True)\n"
     ]
    }
   ],
   "source": [
    "Nan_col=['job','marital','education','default','housing','loan']\n",
    "for col in Nan_col :\n",
    "    test_data[col].fillna(test_data[col].mode()[0],inplace=True)"
   ]
  },
  {
   "cell_type": "markdown",
   "id": "da4b440d",
   "metadata": {},
   "source": [
    "#### Enoding Categorical & Scaling Numerical Test Data Feature "
   ]
  },
  {
   "cell_type": "code",
   "execution_count": 95,
   "id": "deb43f7b",
   "metadata": {},
   "outputs": [
    {
     "name": "stderr",
     "output_type": "stream",
     "text": [
      "C:\\Users\\benya\\AppData\\Local\\Temp\\ipykernel_7744\\1709191594.py:4: SettingWithCopyWarning: \n",
      "A value is trying to be set on a copy of a slice from a DataFrame.\n",
      "Try using .loc[row_indexer,col_indexer] = value instead\n",
      "\n",
      "See the caveats in the documentation: https://pandas.pydata.org/pandas-docs/stable/user_guide/indexing.html#returning-a-view-versus-a-copy\n",
      "  test_data[col] = le.fit_transform(test_data[col])\n",
      "C:\\Users\\benya\\AppData\\Local\\Temp\\ipykernel_7744\\1709191594.py:4: SettingWithCopyWarning: \n",
      "A value is trying to be set on a copy of a slice from a DataFrame.\n",
      "Try using .loc[row_indexer,col_indexer] = value instead\n",
      "\n",
      "See the caveats in the documentation: https://pandas.pydata.org/pandas-docs/stable/user_guide/indexing.html#returning-a-view-versus-a-copy\n",
      "  test_data[col] = le.fit_transform(test_data[col])\n",
      "C:\\Users\\benya\\AppData\\Local\\Temp\\ipykernel_7744\\1709191594.py:4: SettingWithCopyWarning: \n",
      "A value is trying to be set on a copy of a slice from a DataFrame.\n",
      "Try using .loc[row_indexer,col_indexer] = value instead\n",
      "\n",
      "See the caveats in the documentation: https://pandas.pydata.org/pandas-docs/stable/user_guide/indexing.html#returning-a-view-versus-a-copy\n",
      "  test_data[col] = le.fit_transform(test_data[col])\n",
      "C:\\Users\\benya\\AppData\\Local\\Temp\\ipykernel_7744\\1709191594.py:4: SettingWithCopyWarning: \n",
      "A value is trying to be set on a copy of a slice from a DataFrame.\n",
      "Try using .loc[row_indexer,col_indexer] = value instead\n",
      "\n",
      "See the caveats in the documentation: https://pandas.pydata.org/pandas-docs/stable/user_guide/indexing.html#returning-a-view-versus-a-copy\n",
      "  test_data[col] = le.fit_transform(test_data[col])\n",
      "C:\\Users\\benya\\AppData\\Local\\Temp\\ipykernel_7744\\1709191594.py:4: SettingWithCopyWarning: \n",
      "A value is trying to be set on a copy of a slice from a DataFrame.\n",
      "Try using .loc[row_indexer,col_indexer] = value instead\n",
      "\n",
      "See the caveats in the documentation: https://pandas.pydata.org/pandas-docs/stable/user_guide/indexing.html#returning-a-view-versus-a-copy\n",
      "  test_data[col] = le.fit_transform(test_data[col])\n",
      "C:\\Users\\benya\\AppData\\Local\\Temp\\ipykernel_7744\\1709191594.py:4: SettingWithCopyWarning: \n",
      "A value is trying to be set on a copy of a slice from a DataFrame.\n",
      "Try using .loc[row_indexer,col_indexer] = value instead\n",
      "\n",
      "See the caveats in the documentation: https://pandas.pydata.org/pandas-docs/stable/user_guide/indexing.html#returning-a-view-versus-a-copy\n",
      "  test_data[col] = le.fit_transform(test_data[col])\n",
      "C:\\Users\\benya\\AppData\\Local\\Temp\\ipykernel_7744\\1709191594.py:4: SettingWithCopyWarning: \n",
      "A value is trying to be set on a copy of a slice from a DataFrame.\n",
      "Try using .loc[row_indexer,col_indexer] = value instead\n",
      "\n",
      "See the caveats in the documentation: https://pandas.pydata.org/pandas-docs/stable/user_guide/indexing.html#returning-a-view-versus-a-copy\n",
      "  test_data[col] = le.fit_transform(test_data[col])\n",
      "C:\\Users\\benya\\AppData\\Local\\Temp\\ipykernel_7744\\1709191594.py:4: SettingWithCopyWarning: \n",
      "A value is trying to be set on a copy of a slice from a DataFrame.\n",
      "Try using .loc[row_indexer,col_indexer] = value instead\n",
      "\n",
      "See the caveats in the documentation: https://pandas.pydata.org/pandas-docs/stable/user_guide/indexing.html#returning-a-view-versus-a-copy\n",
      "  test_data[col] = le.fit_transform(test_data[col])\n",
      "C:\\Users\\benya\\AppData\\Local\\Temp\\ipykernel_7744\\1709191594.py:6: SettingWithCopyWarning: \n",
      "A value is trying to be set on a copy of a slice from a DataFrame.\n",
      "Try using .loc[row_indexer,col_indexer] = value instead\n",
      "\n",
      "See the caveats in the documentation: https://pandas.pydata.org/pandas-docs/stable/user_guide/indexing.html#returning-a-view-versus-a-copy\n",
      "  test_data[selected_numerical]=scale.transform(test_data[selected_numerical])\n"
     ]
    }
   ],
   "source": [
    "categorical_col=['job','month','day_of_week','marital','education','default','housing','loan']\n",
    "for col in categorical_col :\n",
    "    le=LabelEncoder()\n",
    "    test_data[col] = le.fit_transform(test_data[col])\n",
    "                                   \n",
    "test_data[selected_numerical]=scale.transform(test_data[selected_numerical])\n"
   ]
  }
 ],
 "metadata": {
  "kernelspec": {
   "display_name": "Python 3 (ipykernel)",
   "language": "python",
   "name": "python3"
  },
  "language_info": {
   "codemirror_mode": {
    "name": "ipython",
    "version": 3
   },
   "file_extension": ".py",
   "mimetype": "text/x-python",
   "name": "python",
   "nbconvert_exporter": "python",
   "pygments_lexer": "ipython3",
   "version": "3.11.2"
  }
 },
 "nbformat": 4,
 "nbformat_minor": 5
}
